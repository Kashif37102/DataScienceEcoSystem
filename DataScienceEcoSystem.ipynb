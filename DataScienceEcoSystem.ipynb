{
 "cells": [
  {
   "cell_type": "markdown",
   "id": "bfaeb24b-7215-4e32-96f0-07e401ea8e72",
   "metadata": {},
   "source": [
    "# Data Science Tools and Ecosystem"
   ]
  },
  {
   "cell_type": "markdown",
   "id": "06416a4a-aec5-4de2-b2bc-22b777511ceb",
   "metadata": {},
   "source": [
    "\r\n",
    "\r\n",
    "In this notebook, Data Science Tools and Ecosystem are summarized."
   ]
  },
  {
   "cell_type": "markdown",
   "id": "6f4191bc-8d8e-458a-953e-cd69c54b2bf6",
   "metadata": {},
   "source": [
    "Some of the popular languages that Data Scientists use are:\n",
    "- Python\n",
    "- R\n",
    "- SQL"
   ]
  },
  {
   "cell_type": "markdown",
   "id": "aced2ca0-7089-41d7-bb33-da70d6494455",
   "metadata": {},
   "source": [
    "Some of the commonly used libraries used by Data Scientists include:\n",
    "- Numpy\n",
    "- Pandas\n",
    "- scikitlearn"
   ]
  },
  {
   "cell_type": "markdown",
   "id": "78dbebe7-be48-476e-bb00-685187b8bb9a",
   "metadata": {},
   "source": [
    "Data Science Tools:\n",
    "(|)\n",
    "| Data Science Tools |\n",
    "| --- |\n",
    "| Jupyter Notebook |\n",
    "| RStudio |\n",
    "| Spyder |\n"
   ]
  },
  {
   "cell_type": "markdown",
   "id": "07ec93b3-fdeb-46d0-9572-c441692ee449",
   "metadata": {},
   "source": [
    "### Below are a few examples of evaluating arithmetic expressions in Python"
   ]
  },
  {
   "cell_type": "code",
   "execution_count": 3,
   "id": "489c59dc-2aac-491a-b616-f3393c51580a",
   "metadata": {},
   "outputs": [
    {
     "name": "stdout",
     "output_type": "stream",
     "text": [
      "17\n"
     ]
    }
   ],
   "source": [
    "# This is a simple arithmetic expression to multiply then add integers.\n",
    "result = (3*4) + 5\n",
    "print(result)"
   ]
  },
  {
   "cell_type": "code",
   "execution_count": 5,
   "id": "38a1c30e-01f2-474d-b875-7f86cefa2bd2",
   "metadata": {},
   "outputs": [
    {
     "name": "stdout",
     "output_type": "stream",
     "text": [
      "3.3333333333333335\n"
     ]
    }
   ],
   "source": [
    "#This will convert 200 minutes to hours by diving by 60\n",
    "minutes=200\n",
    "hours=minutes/60\n",
    "print(hours)"
   ]
  },
  {
   "cell_type": "markdown",
   "id": "a799d852-9b05-484c-9a6e-b7c2458f88e9",
   "metadata": {},
   "source": [
    "\"Objectives\":\n",
    "\n",
    "- Python\n",
    "- R\n",
    "- \r\n",
    "SQL\n"
   ]
  },
  {
   "cell_type": "markdown",
   "id": "ad295e4f-54b7-425a-b368-6f12e360cd52",
   "metadata": {},
   "source": [
    "## Author\n",
    "Kashif"
   ]
  },
  {
   "cell_type": "code",
   "execution_count": null,
   "id": "d69cd6fd-d8b8-4fa1-ab83-f187d8c58219",
   "metadata": {},
   "outputs": [],
   "source": []
  }
 ],
 "metadata": {
  "kernelspec": {
   "display_name": "Python 3 (ipykernel)",
   "language": "python",
   "name": "python3"
  },
  "language_info": {
   "codemirror_mode": {
    "name": "ipython",
    "version": 3
   },
   "file_extension": ".py",
   "mimetype": "text/x-python",
   "name": "python",
   "nbconvert_exporter": "python",
   "pygments_lexer": "ipython3",
   "version": "3.12.4"
  }
 },
 "nbformat": 4,
 "nbformat_minor": 5
}
